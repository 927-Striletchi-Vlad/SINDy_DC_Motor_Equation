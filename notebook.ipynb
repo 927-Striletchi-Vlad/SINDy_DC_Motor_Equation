{
 "cells": [
  {
   "attachments": {},
   "cell_type": "markdown",
   "metadata": {},
   "source": [
    "#### Time(t), Voltage(V), Load Torque(LT), Current(I), Speed(w)\n",
    "Control variables - V, LT  \n",
    "State variables - I, w"
   ]
  },
  {
   "attachments": {},
   "cell_type": "markdown",
   "metadata": {},
   "source": [
    "### Read data"
   ]
  },
  {
   "cell_type": "code",
   "execution_count": 2,
   "metadata": {},
   "outputs": [],
   "source": [
    "t_file = []\n",
    "voltage = []\n",
    "loadTorque = []\n",
    "current = []\n",
    "speed = []\n",
    "\n",
    "\n",
    "f = open('DC_motor_001.txt')\n",
    "for line in f:\n",
    "    values = line.split()\n",
    "    t_file.append(float(values[0]))\n",
    "    voltage.append(float(values[1]))\n",
    "    loadTorque.append(float(values[2]))\n",
    "    current.append(float(values[3]))\n",
    "    speed.append(float(values[4]))\n",
    "    "
   ]
  },
  {
   "attachments": {},
   "cell_type": "markdown",
   "metadata": {},
   "source": [
    "#### Test print"
   ]
  },
  {
   "cell_type": "code",
   "execution_count": null,
   "metadata": {},
   "outputs": [],
   "source": [
    "t_file"
   ]
  },
  {
   "attachments": {},
   "cell_type": "markdown",
   "metadata": {},
   "source": [
    "### Fit sparse and non-sparse model"
   ]
  },
  {
   "cell_type": "code",
   "execution_count": 25,
   "metadata": {},
   "outputs": [
    {
     "name": "stderr",
     "output_type": "stream",
     "text": [
      "c:\\Python311\\Lib\\site-packages\\sklearn\\linear_model\\_ridge.py:157: LinAlgWarning: Ill-conditioned matrix (rcond=3.56031e-20): result may not be accurate.\n",
      "  return linalg.solve(A, Xy, sym_pos=True, overwrite_a=True).T\n",
      "c:\\Python311\\Lib\\site-packages\\sklearn\\linear_model\\_ridge.py:157: LinAlgWarning: Ill-conditioned matrix (rcond=3.56031e-20): result may not be accurate.\n",
      "  return linalg.solve(A, Xy, sym_pos=True, overwrite_a=True).T\n",
      "c:\\Python311\\Lib\\site-packages\\sklearn\\linear_model\\_ridge.py:157: LinAlgWarning: Ill-conditioned matrix (rcond=3.56031e-20): result may not be accurate.\n",
      "  return linalg.solve(A, Xy, sym_pos=True, overwrite_a=True).T\n",
      "c:\\Python311\\Lib\\site-packages\\sklearn\\linear_model\\_ridge.py:157: LinAlgWarning: Ill-conditioned matrix (rcond=3.56031e-20): result may not be accurate.\n",
      "  return linalg.solve(A, Xy, sym_pos=True, overwrite_a=True).T\n"
     ]
    },
    {
     "data": {
      "text/plain": [
       "SINDy(differentiation_method=FiniteDifference(),\n",
       "      feature_library=<pysindy.feature_library.generalized_library.GeneralizedLibrary object at 0x0000019775289610>,\n",
       "      feature_names=['i', 'w', 'V', 'LT'], optimizer=STLSQ(threshold=10.0))"
      ]
     },
     "execution_count": 25,
     "metadata": {},
     "output_type": "execute_result"
    }
   ],
   "source": [
    "import numpy as np\n",
    "import pysindy as ps\n",
    "\n",
    "optNonSparse = ps.STLSQ(threshold=0, fit_intercept=False)\n",
    "optSparse = ps.STLSQ(threshold=10.0, fit_intercept=False)\n",
    "\n",
    "X = np.column_stack((current, speed))\n",
    "U = np.column_stack((voltage, loadTorque))\n",
    "t = np.array(t_file)\n",
    "featureNames = ['i', 'w', 'V', 'LT']\n",
    "\n",
    "\n",
    "varsLib = ps.PolynomialLibrary(degree=2, include_interaction=False)\n",
    "controlLib = ps.PolynomialLibrary(degree=1, include_interaction=False)\n",
    "\n",
    "customVarsLib = ps.CustomLibrary(\n",
    "    library_functions=[lambda x: x, lambda x: x**2, lambda x: x**3],\n",
    "    function_names=[lambda x: x, lambda x: x + '^2', lambda x: x + '^3']\n",
    "    )\n",
    "customControlLib = ps.CustomLibrary(\n",
    "    library_functions=[lambda x: x],\n",
    "    function_names=[lambda x: x]\n",
    "    )\n",
    "\n",
    "inputs_temp = [[0,1,1,1],\n",
    "                [2,3,3,3]]\n",
    "inputs_per_library = np.asarray(inputs_temp)\n",
    "\n",
    "featureLibrary = ps.GeneralizedLibrary(\n",
    "    [customVarsLib, customControlLib],\n",
    "    inputs_per_library = inputs_per_library\n",
    ")\n",
    "\n",
    "modelNonSparse = ps.SINDy(feature_names=featureNames, optimizer=optNonSparse,feature_library=featureLibrary)\n",
    "modelNonSparse.fit(X, t=t, u=U)\n",
    "\n",
    "modelSparse = ps.SINDy(feature_names=featureNames, optimizer=optSparse, feature_library=featureLibrary)\n",
    "modelSparse.fit(X, t=t, u=U)\n"
   ]
  },
  {
   "attachments": {},
   "cell_type": "markdown",
   "metadata": {},
   "source": [
    "### Sparse Model"
   ]
  },
  {
   "cell_type": "code",
   "execution_count": 26,
   "metadata": {},
   "outputs": [
    {
     "name": "stdout",
     "output_type": "stream",
     "text": [
      "(i)' = -309.390 i + -31.007 w + 619.466 V\n",
      "(w)' = 199.030 i + -4103.977 LT\n"
     ]
    }
   ],
   "source": [
    "modelSparse.print()"
   ]
  },
  {
   "attachments": {},
   "cell_type": "markdown",
   "metadata": {},
   "source": [
    "### Non-Sparse Model"
   ]
  },
  {
   "cell_type": "code",
   "execution_count": 27,
   "metadata": {},
   "outputs": [
    {
     "name": "stdout",
     "output_type": "stream",
     "text": [
      "(i)' = -309.702 i + -30.963 w + 0.001 i^2 + 618.837 V + 2.791 LT\n",
      "(w)' = 204.978 i + 0.120 w + -10.442 V + -3987.292 LT\n"
     ]
    }
   ],
   "source": [
    "modelNonSparse.print()"
   ]
  }
 ],
 "metadata": {
  "kernelspec": {
   "display_name": "Python 3",
   "language": "python",
   "name": "python3"
  },
  "language_info": {
   "codemirror_mode": {
    "name": "ipython",
    "version": 3
   },
   "file_extension": ".py",
   "mimetype": "text/x-python",
   "name": "python",
   "nbconvert_exporter": "python",
   "pygments_lexer": "ipython3",
   "version": "3.11.0"
  },
  "orig_nbformat": 4,
  "vscode": {
   "interpreter": {
    "hash": "c261aea317cc0286b3b3261fbba9abdec21eaa57589985bb7a274bf54d6cc0a7"
   }
  }
 },
 "nbformat": 4,
 "nbformat_minor": 2
}
