{
 "cells": [
  {
   "attachments": {},
   "cell_type": "markdown",
   "metadata": {},
   "source": [
    "#### Time(t), Voltage(V), Load Torque(LT), Current(I), Speed(w)\n",
    "Control variables - V, LT  \n",
    "State variables - I, w"
   ]
  },
  {
   "attachments": {},
   "cell_type": "markdown",
   "metadata": {},
   "source": [
    "### Read data"
   ]
  },
  {
   "cell_type": "code",
   "execution_count": 28,
   "metadata": {},
   "outputs": [],
   "source": [
    "t_file = []\n",
    "voltage = []\n",
    "loadTorque = []\n",
    "current = []\n",
    "speed = []\n",
    "\n",
    "\n",
    "f = open('DC_motor_001.txt')\n",
    "for line in f:\n",
    "    values = line.split()\n",
    "    t_file.append(float(values[0]))\n",
    "    voltage.append(float(values[1]))\n",
    "    loadTorque.append(float(values[2]))\n",
    "    current.append(float(values[3]))\n",
    "    speed.append(float(values[4]))\n",
    "    "
   ]
  },
  {
   "attachments": {},
   "cell_type": "markdown",
   "metadata": {},
   "source": [
    "#### Test print"
   ]
  },
  {
   "cell_type": "code",
   "execution_count": null,
   "metadata": {},
   "outputs": [],
   "source": [
    "t_file"
   ]
  },
  {
   "attachments": {},
   "cell_type": "markdown",
   "metadata": {},
   "source": [
    "### Fit sparse and non-sparse model"
   ]
  },
  {
   "cell_type": "code",
   "execution_count": 146,
   "metadata": {},
   "outputs": [
    {
     "name": "stderr",
     "output_type": "stream",
     "text": [
      "c:\\Python311\\Lib\\site-packages\\sklearn\\linear_model\\_ridge.py:157: LinAlgWarning: Ill-conditioned matrix (rcond=1.15339e-17): result may not be accurate.\n",
      "  return linalg.solve(A, Xy, sym_pos=True, overwrite_a=True).T\n",
      "c:\\Python311\\Lib\\site-packages\\sklearn\\linear_model\\_ridge.py:157: LinAlgWarning: Ill-conditioned matrix (rcond=1.15339e-17): result may not be accurate.\n",
      "  return linalg.solve(A, Xy, sym_pos=True, overwrite_a=True).T\n",
      "c:\\Python311\\Lib\\site-packages\\sklearn\\linear_model\\_ridge.py:157: LinAlgWarning: Ill-conditioned matrix (rcond=1.15339e-17): result may not be accurate.\n",
      "  return linalg.solve(A, Xy, sym_pos=True, overwrite_a=True).T\n",
      "c:\\Python311\\Lib\\site-packages\\sklearn\\linear_model\\_ridge.py:157: LinAlgWarning: Ill-conditioned matrix (rcond=1.15339e-17): result may not be accurate.\n",
      "  return linalg.solve(A, Xy, sym_pos=True, overwrite_a=True).T\n"
     ]
    },
    {
     "data": {
      "text/plain": [
       "SINDy(differentiation_method=FiniteDifference(),\n",
       "      feature_library=<pysindy.feature_library.generalized_library.GeneralizedLibrary object at 0x0000018BBE739690>,\n",
       "      feature_names=['i', 'w', 'V', 'LT'],\n",
       "      optimizer=STLSQ(fit_intercept=True, threshold=10.0))"
      ]
     },
     "execution_count": 146,
     "metadata": {},
     "output_type": "execute_result"
    }
   ],
   "source": [
    "import numpy as np\n",
    "import pysindy as ps\n",
    "\n",
    "optNonSparse = ps.STLSQ(threshold=0, fit_intercept=True)\n",
    "optSparse = ps.STLSQ(threshold=10.0, fit_intercept=True)\n",
    "\n",
    "X = np.column_stack((current, speed))\n",
    "U = np.column_stack((voltage, loadTorque))\n",
    "t = np.array(t_file)\n",
    "featureNames = ['i', 'w', 'V', 'LT']\n",
    "\n",
    "\n",
    "varsLib = ps.PolynomialLibrary(degree=2, include_interaction=False)\n",
    "controlLib = ps.PolynomialLibrary(degree=1, include_interaction=False)\n",
    "inputs_temp = [[0,1,1,1],\n",
    "                [2,3,3,3]]\n",
    "inputs_per_library = np.asarray(inputs_temp)\n",
    "\n",
    "featureLibrary = ps.GeneralizedLibrary(\n",
    "    [varsLib, controlLib],\n",
    "    inputs_per_library = inputs_per_library\n",
    ")\n",
    "\n",
    "modelNonSparse = ps.SINDy(feature_names=featureNames, optimizer=optNonSparse,feature_library=featureLibrary)\n",
    "modelNonSparse.fit(X, t=t, u=U)\n",
    "\n",
    "modelSparse = ps.SINDy(feature_names=featureNames, optimizer=optSparse, feature_library=featureLibrary)\n",
    "modelSparse.fit(X, t=t, u=U)\n"
   ]
  },
  {
   "attachments": {},
   "cell_type": "markdown",
   "metadata": {},
   "source": [
    "### Sparse Model"
   ]
  },
  {
   "cell_type": "code",
   "execution_count": 147,
   "metadata": {},
   "outputs": [
    {
     "name": "stdout",
     "output_type": "stream",
     "text": [
      "(i)' = -309.130 i + -31.005 w + 618.742 V + 55.266\n",
      "(w)' = 199.473 i + -3952.991 LT + -317.738\n"
     ]
    }
   ],
   "source": [
    "modelSparse.print()"
   ]
  },
  {
   "attachments": {},
   "cell_type": "markdown",
   "metadata": {},
   "source": [
    "### Non-Sparse Model"
   ]
  },
  {
   "cell_type": "code",
   "execution_count": 142,
   "metadata": {},
   "outputs": [
    {
     "name": "stdout",
     "output_type": "stream",
     "text": [
      "(i)' = 31.094 1 + -309.223 i + -31.003 w + -0.002 i^2 + 31.094 1 + 618.736 V + -6.582 LT\n",
      "(w)' = -0.393 1 + 204.968 i + 0.119 w + -0.393 1 + -10.428 V + -3986.849 LT\n"
     ]
    }
   ],
   "source": [
    "modelNonSparse.print()"
   ]
  }
 ],
 "metadata": {
  "kernelspec": {
   "display_name": "Python 3",
   "language": "python",
   "name": "python3"
  },
  "language_info": {
   "codemirror_mode": {
    "name": "ipython",
    "version": 3
   },
   "file_extension": ".py",
   "mimetype": "text/x-python",
   "name": "python",
   "nbconvert_exporter": "python",
   "pygments_lexer": "ipython3",
   "version": "3.11.0"
  },
  "orig_nbformat": 4,
  "vscode": {
   "interpreter": {
    "hash": "c261aea317cc0286b3b3261fbba9abdec21eaa57589985bb7a274bf54d6cc0a7"
   }
  }
 },
 "nbformat": 4,
 "nbformat_minor": 2
}
